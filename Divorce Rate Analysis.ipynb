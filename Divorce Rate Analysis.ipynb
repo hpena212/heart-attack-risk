{
  "cells": [
    {
      "cell_type": "code",
      "execution_count": null,
      "metadata": {
        "id": "f8tFtUs3PWvF"
      },
      "outputs": [],
      "source": [
        "import scipy.stats as stats\n",
        "import matplotlib.pyplot as plt\n",
        "from scipy.stats import ttest_ind\n",
        "from scipy.stats import chi2_contingency\n",
        "from scipy.stats import normaltest, mannwhitneyu\n",
        "from scipy.stats import levene"
      ]
    },
    {
      "cell_type": "markdown",
      "metadata": {
        "id": "-eAKoOAKPfnB"
      },
      "source": [
        "**a. What is the goal of correlation analysis?**\n",
        "\n",
        "To see how strong the linear relationship is between two or more variables."
      ]
    },
    {
      "cell_type": "markdown",
      "metadata": {
        "id": "sWYF6ux8P49a"
      },
      "source": [
        "**b. What types of data transformation did you have to do for correlation analysis?**\n",
        "\n",
        "The type of transformation that must be done would be to turn categorical varaibles into numerical and take care of null values and scaling."
      ]
    },
    {
      "cell_type": "markdown",
      "metadata": {
        "id": "Ba1BExTzQu8e"
      },
      "source": [
        "**c. Explain the results of the correlation analysis?**\n",
        "\n",
        "When looking at the values for correlation analysis I found that weight category was the most important when related to 2nd heart attack, with cholesterol coming in afterwards."
      ]
    },
    {
      "cell_type": "markdown",
      "metadata": {
        "id": "WcQ4LkoJUzxP"
      },
      "source": [
        "**d. Describe the characteristics of people who are at risk of having 2nd heart attack**\n",
        "\n",
        "It seems that the characteristics of people who are risk of having a 2nd heart attack tend to have a higher weight category, and higher cholesterol"
      ]
    },
    {
      "cell_type": "markdown",
      "metadata": {
        "id": "_o71OtniXf0X"
      },
      "source": [
        "**e. What is your general recommendation for the healthcare provider?**\n",
        "\n",
        "The general recommedation would be for those patients in the higher weight class and with higher cholesterol to watch their weight"
      ]
    },
    {
      "cell_type": "markdown",
      "metadata": {
        "id": "z4gMSmHRiNf0"
      },
      "source": []
    },
    {
      "cell_type": "code",
      "execution_count": null,
      "metadata": {
        "colab": {
          "base_uri": "https://localhost:8080/",
          "height": 243
        },
        "id": "TvbB3r1OY1iP",
        "outputId": "01e2b2a0-063a-48ca-bd52-aa709b56d038"
      },
      "outputs": [
        {
          "data": {
            "application/vnd.google.colaboratory.intrinsic+json": {
              "summary": "{\n  \"name\": \"df1\",\n  \"rows\": 6366,\n  \"fields\": [\n    {\n      \"column\": \"Unnamed: 0\",\n      \"properties\": {\n        \"dtype\": \"number\",\n        \"std\": 1837,\n        \"min\": 0,\n        \"max\": 6365,\n        \"num_unique_values\": 6366,\n        \"samples\": [\n          5988,\n          217,\n          5339\n        ],\n        \"semantic_type\": \"\",\n        \"description\": \"\"\n      }\n    },\n    {\n      \"column\": \"rate_marriage\",\n      \"properties\": {\n        \"dtype\": \"number\",\n        \"std\": 0,\n        \"min\": 1,\n        \"max\": 5,\n        \"num_unique_values\": 5,\n        \"samples\": [\n          4,\n          1,\n          5\n        ],\n        \"semantic_type\": \"\",\n        \"description\": \"\"\n      }\n    },\n    {\n      \"column\": \"age\",\n      \"properties\": {\n        \"dtype\": \"number\",\n        \"std\": 6.847881883668904,\n        \"min\": 17.5,\n        \"max\": 42.0,\n        \"num_unique_values\": 6,\n        \"samples\": [\n          32.0,\n          27.0,\n          17.5\n        ],\n        \"semantic_type\": \"\",\n        \"description\": \"\"\n      }\n    },\n    {\n      \"column\": \"yrs_married\",\n      \"properties\": {\n        \"dtype\": \"number\",\n        \"std\": 7.280119972766367,\n        \"min\": 0.5,\n        \"max\": 23.0,\n        \"num_unique_values\": 7,\n        \"samples\": [\n          9.0,\n          13.0,\n          6.0\n        ],\n        \"semantic_type\": \"\",\n        \"description\": \"\"\n      }\n    },\n    {\n      \"column\": \"children\",\n      \"properties\": {\n        \"dtype\": \"number\",\n        \"std\": 1.4334708285604203,\n        \"min\": 0.0,\n        \"max\": 5.5,\n        \"num_unique_values\": 6,\n        \"samples\": [\n          3.0,\n          0.0,\n          2.0\n        ],\n        \"semantic_type\": \"\",\n        \"description\": \"\"\n      }\n    },\n    {\n      \"column\": \"religious\",\n      \"properties\": {\n        \"dtype\": \"number\",\n        \"std\": 0,\n        \"min\": 1,\n        \"max\": 4,\n        \"num_unique_values\": 4,\n        \"samples\": [\n          1,\n          4,\n          3\n        ],\n        \"semantic_type\": \"\",\n        \"description\": \"\"\n      }\n    },\n    {\n      \"column\": \"educ\",\n      \"properties\": {\n        \"dtype\": \"number\",\n        \"std\": 2,\n        \"min\": 9,\n        \"max\": 20,\n        \"num_unique_values\": 6,\n        \"samples\": [\n          17,\n          14,\n          9\n        ],\n        \"semantic_type\": \"\",\n        \"description\": \"\"\n      }\n    },\n    {\n      \"column\": \"occupation\",\n      \"properties\": {\n        \"dtype\": \"number\",\n        \"std\": 0,\n        \"min\": 1,\n        \"max\": 6,\n        \"num_unique_values\": 6,\n        \"samples\": [\n          2,\n          3,\n          6\n        ],\n        \"semantic_type\": \"\",\n        \"description\": \"\"\n      }\n    },\n    {\n      \"column\": \"occupation_husb\",\n      \"properties\": {\n        \"dtype\": \"number\",\n        \"std\": 1,\n        \"min\": 1,\n        \"max\": 6,\n        \"num_unique_values\": 6,\n        \"samples\": [\n          5,\n          4,\n          1\n        ],\n        \"semantic_type\": \"\",\n        \"description\": \"\"\n      }\n    },\n    {\n      \"column\": \"affairs\",\n      \"properties\": {\n        \"dtype\": \"number\",\n        \"std\": 2.2033737448585184,\n        \"min\": 0.0,\n        \"max\": 57.5999908,\n        \"num_unique_values\": 77,\n        \"samples\": [\n          4.666666,\n          0.0606061,\n          2.041666\n        ],\n        \"semantic_type\": \"\",\n        \"description\": \"\"\n      }\n    },\n    {\n      \"column\": \"affairs_yes_no\",\n      \"properties\": {\n        \"dtype\": \"number\",\n        \"std\": 0,\n        \"min\": 0,\n        \"max\": 1,\n        \"num_unique_values\": 2,\n        \"samples\": [\n          0,\n          1\n        ],\n        \"semantic_type\": \"\",\n        \"description\": \"\"\n      }\n    }\n  ]\n}",
              "type": "dataframe",
              "variable_name": "df1"
            },
            "text/html": [
              "\n",
              "  <div id=\"df-faf39184-8025-4c20-b727-4774ffc065b7\" class=\"colab-df-container\">\n",
              "    <div>\n",
              "<style scoped>\n",
              "    .dataframe tbody tr th:only-of-type {\n",
              "        vertical-align: middle;\n",
              "    }\n",
              "\n",
              "    .dataframe tbody tr th {\n",
              "        vertical-align: top;\n",
              "    }\n",
              "\n",
              "    .dataframe thead th {\n",
              "        text-align: right;\n",
              "    }\n",
              "</style>\n",
              "<table border=\"1\" class=\"dataframe\">\n",
              "  <thead>\n",
              "    <tr style=\"text-align: right;\">\n",
              "      <th></th>\n",
              "      <th>Unnamed: 0</th>\n",
              "      <th>rate_marriage</th>\n",
              "      <th>age</th>\n",
              "      <th>yrs_married</th>\n",
              "      <th>children</th>\n",
              "      <th>religious</th>\n",
              "      <th>educ</th>\n",
              "      <th>occupation</th>\n",
              "      <th>occupation_husb</th>\n",
              "      <th>affairs</th>\n",
              "      <th>affairs_yes_no</th>\n",
              "    </tr>\n",
              "  </thead>\n",
              "  <tbody>\n",
              "    <tr>\n",
              "      <th>0</th>\n",
              "      <td>0</td>\n",
              "      <td>3</td>\n",
              "      <td>32.0</td>\n",
              "      <td>9.0</td>\n",
              "      <td>3.0</td>\n",
              "      <td>3</td>\n",
              "      <td>17</td>\n",
              "      <td>2</td>\n",
              "      <td>5</td>\n",
              "      <td>0.111111</td>\n",
              "      <td>1</td>\n",
              "    </tr>\n",
              "    <tr>\n",
              "      <th>1</th>\n",
              "      <td>1</td>\n",
              "      <td>3</td>\n",
              "      <td>27.0</td>\n",
              "      <td>13.0</td>\n",
              "      <td>3.0</td>\n",
              "      <td>1</td>\n",
              "      <td>14</td>\n",
              "      <td>3</td>\n",
              "      <td>4</td>\n",
              "      <td>3.230769</td>\n",
              "      <td>1</td>\n",
              "    </tr>\n",
              "    <tr>\n",
              "      <th>2</th>\n",
              "      <td>2</td>\n",
              "      <td>4</td>\n",
              "      <td>22.0</td>\n",
              "      <td>2.5</td>\n",
              "      <td>0.0</td>\n",
              "      <td>1</td>\n",
              "      <td>16</td>\n",
              "      <td>3</td>\n",
              "      <td>5</td>\n",
              "      <td>1.400000</td>\n",
              "      <td>1</td>\n",
              "    </tr>\n",
              "    <tr>\n",
              "      <th>3</th>\n",
              "      <td>3</td>\n",
              "      <td>4</td>\n",
              "      <td>37.0</td>\n",
              "      <td>16.5</td>\n",
              "      <td>4.0</td>\n",
              "      <td>3</td>\n",
              "      <td>16</td>\n",
              "      <td>5</td>\n",
              "      <td>5</td>\n",
              "      <td>0.727273</td>\n",
              "      <td>1</td>\n",
              "    </tr>\n",
              "    <tr>\n",
              "      <th>4</th>\n",
              "      <td>4</td>\n",
              "      <td>5</td>\n",
              "      <td>27.0</td>\n",
              "      <td>9.0</td>\n",
              "      <td>1.0</td>\n",
              "      <td>1</td>\n",
              "      <td>14</td>\n",
              "      <td>3</td>\n",
              "      <td>4</td>\n",
              "      <td>4.666666</td>\n",
              "      <td>1</td>\n",
              "    </tr>\n",
              "  </tbody>\n",
              "</table>\n",
              "</div>\n",
              "    <div class=\"colab-df-buttons\">\n",
              "\n",
              "  <div class=\"colab-df-container\">\n",
              "    <button class=\"colab-df-convert\" onclick=\"convertToInteractive('df-faf39184-8025-4c20-b727-4774ffc065b7')\"\n",
              "            title=\"Convert this dataframe to an interactive table.\"\n",
              "            style=\"display:none;\">\n",
              "\n",
              "  <svg xmlns=\"http://www.w3.org/2000/svg\" height=\"24px\" viewBox=\"0 -960 960 960\">\n",
              "    <path d=\"M120-120v-720h720v720H120Zm60-500h600v-160H180v160Zm220 220h160v-160H400v160Zm0 220h160v-160H400v160ZM180-400h160v-160H180v160Zm440 0h160v-160H620v160ZM180-180h160v-160H180v160Zm440 0h160v-160H620v160Z\"/>\n",
              "  </svg>\n",
              "    </button>\n",
              "\n",
              "  <style>\n",
              "    .colab-df-container {\n",
              "      display:flex;\n",
              "      gap: 12px;\n",
              "    }\n",
              "\n",
              "    .colab-df-convert {\n",
              "      background-color: #E8F0FE;\n",
              "      border: none;\n",
              "      border-radius: 50%;\n",
              "      cursor: pointer;\n",
              "      display: none;\n",
              "      fill: #1967D2;\n",
              "      height: 32px;\n",
              "      padding: 0 0 0 0;\n",
              "      width: 32px;\n",
              "    }\n",
              "\n",
              "    .colab-df-convert:hover {\n",
              "      background-color: #E2EBFA;\n",
              "      box-shadow: 0px 1px 2px rgba(60, 64, 67, 0.3), 0px 1px 3px 1px rgba(60, 64, 67, 0.15);\n",
              "      fill: #174EA6;\n",
              "    }\n",
              "\n",
              "    .colab-df-buttons div {\n",
              "      margin-bottom: 4px;\n",
              "    }\n",
              "\n",
              "    [theme=dark] .colab-df-convert {\n",
              "      background-color: #3B4455;\n",
              "      fill: #D2E3FC;\n",
              "    }\n",
              "\n",
              "    [theme=dark] .colab-df-convert:hover {\n",
              "      background-color: #434B5C;\n",
              "      box-shadow: 0px 1px 3px 1px rgba(0, 0, 0, 0.15);\n",
              "      filter: drop-shadow(0px 1px 2px rgba(0, 0, 0, 0.3));\n",
              "      fill: #FFFFFF;\n",
              "    }\n",
              "  </style>\n",
              "\n",
              "    <script>\n",
              "      const buttonEl =\n",
              "        document.querySelector('#df-faf39184-8025-4c20-b727-4774ffc065b7 button.colab-df-convert');\n",
              "      buttonEl.style.display =\n",
              "        google.colab.kernel.accessAllowed ? 'block' : 'none';\n",
              "\n",
              "      async function convertToInteractive(key) {\n",
              "        const element = document.querySelector('#df-faf39184-8025-4c20-b727-4774ffc065b7');\n",
              "        const dataTable =\n",
              "          await google.colab.kernel.invokeFunction('convertToInteractive',\n",
              "                                                    [key], {});\n",
              "        if (!dataTable) return;\n",
              "\n",
              "        const docLinkHtml = 'Like what you see? Visit the ' +\n",
              "          '<a target=\"_blank\" href=https://colab.research.google.com/notebooks/data_table.ipynb>data table notebook</a>'\n",
              "          + ' to learn more about interactive tables.';\n",
              "        element.innerHTML = '';\n",
              "        dataTable['output_type'] = 'display_data';\n",
              "        await google.colab.output.renderOutput(dataTable, element);\n",
              "        const docLink = document.createElement('div');\n",
              "        docLink.innerHTML = docLinkHtml;\n",
              "        element.appendChild(docLink);\n",
              "      }\n",
              "    </script>\n",
              "  </div>\n",
              "\n",
              "\n",
              "<div id=\"df-f47a18f0-602b-46d3-8402-adb964359039\">\n",
              "  <button class=\"colab-df-quickchart\" onclick=\"quickchart('df-f47a18f0-602b-46d3-8402-adb964359039')\"\n",
              "            title=\"Suggest charts\"\n",
              "            style=\"display:none;\">\n",
              "\n",
              "<svg xmlns=\"http://www.w3.org/2000/svg\" height=\"24px\"viewBox=\"0 0 24 24\"\n",
              "     width=\"24px\">\n",
              "    <g>\n",
              "        <path d=\"M19 3H5c-1.1 0-2 .9-2 2v14c0 1.1.9 2 2 2h14c1.1 0 2-.9 2-2V5c0-1.1-.9-2-2-2zM9 17H7v-7h2v7zm4 0h-2V7h2v10zm4 0h-2v-4h2v4z\"/>\n",
              "    </g>\n",
              "</svg>\n",
              "  </button>\n",
              "\n",
              "<style>\n",
              "  .colab-df-quickchart {\n",
              "      --bg-color: #E8F0FE;\n",
              "      --fill-color: #1967D2;\n",
              "      --hover-bg-color: #E2EBFA;\n",
              "      --hover-fill-color: #174EA6;\n",
              "      --disabled-fill-color: #AAA;\n",
              "      --disabled-bg-color: #DDD;\n",
              "  }\n",
              "\n",
              "  [theme=dark] .colab-df-quickchart {\n",
              "      --bg-color: #3B4455;\n",
              "      --fill-color: #D2E3FC;\n",
              "      --hover-bg-color: #434B5C;\n",
              "      --hover-fill-color: #FFFFFF;\n",
              "      --disabled-bg-color: #3B4455;\n",
              "      --disabled-fill-color: #666;\n",
              "  }\n",
              "\n",
              "  .colab-df-quickchart {\n",
              "    background-color: var(--bg-color);\n",
              "    border: none;\n",
              "    border-radius: 50%;\n",
              "    cursor: pointer;\n",
              "    display: none;\n",
              "    fill: var(--fill-color);\n",
              "    height: 32px;\n",
              "    padding: 0;\n",
              "    width: 32px;\n",
              "  }\n",
              "\n",
              "  .colab-df-quickchart:hover {\n",
              "    background-color: var(--hover-bg-color);\n",
              "    box-shadow: 0 1px 2px rgba(60, 64, 67, 0.3), 0 1px 3px 1px rgba(60, 64, 67, 0.15);\n",
              "    fill: var(--button-hover-fill-color);\n",
              "  }\n",
              "\n",
              "  .colab-df-quickchart-complete:disabled,\n",
              "  .colab-df-quickchart-complete:disabled:hover {\n",
              "    background-color: var(--disabled-bg-color);\n",
              "    fill: var(--disabled-fill-color);\n",
              "    box-shadow: none;\n",
              "  }\n",
              "\n",
              "  .colab-df-spinner {\n",
              "    border: 2px solid var(--fill-color);\n",
              "    border-color: transparent;\n",
              "    border-bottom-color: var(--fill-color);\n",
              "    animation:\n",
              "      spin 1s steps(1) infinite;\n",
              "  }\n",
              "\n",
              "  @keyframes spin {\n",
              "    0% {\n",
              "      border-color: transparent;\n",
              "      border-bottom-color: var(--fill-color);\n",
              "      border-left-color: var(--fill-color);\n",
              "    }\n",
              "    20% {\n",
              "      border-color: transparent;\n",
              "      border-left-color: var(--fill-color);\n",
              "      border-top-color: var(--fill-color);\n",
              "    }\n",
              "    30% {\n",
              "      border-color: transparent;\n",
              "      border-left-color: var(--fill-color);\n",
              "      border-top-color: var(--fill-color);\n",
              "      border-right-color: var(--fill-color);\n",
              "    }\n",
              "    40% {\n",
              "      border-color: transparent;\n",
              "      border-right-color: var(--fill-color);\n",
              "      border-top-color: var(--fill-color);\n",
              "    }\n",
              "    60% {\n",
              "      border-color: transparent;\n",
              "      border-right-color: var(--fill-color);\n",
              "    }\n",
              "    80% {\n",
              "      border-color: transparent;\n",
              "      border-right-color: var(--fill-color);\n",
              "      border-bottom-color: var(--fill-color);\n",
              "    }\n",
              "    90% {\n",
              "      border-color: transparent;\n",
              "      border-bottom-color: var(--fill-color);\n",
              "    }\n",
              "  }\n",
              "</style>\n",
              "\n",
              "  <script>\n",
              "    async function quickchart(key) {\n",
              "      const quickchartButtonEl =\n",
              "        document.querySelector('#' + key + ' button');\n",
              "      quickchartButtonEl.disabled = true;  // To prevent multiple clicks.\n",
              "      quickchartButtonEl.classList.add('colab-df-spinner');\n",
              "      try {\n",
              "        const charts = await google.colab.kernel.invokeFunction(\n",
              "            'suggestCharts', [key], {});\n",
              "      } catch (error) {\n",
              "        console.error('Error during call to suggestCharts:', error);\n",
              "      }\n",
              "      quickchartButtonEl.classList.remove('colab-df-spinner');\n",
              "      quickchartButtonEl.classList.add('colab-df-quickchart-complete');\n",
              "    }\n",
              "    (() => {\n",
              "      let quickchartButtonEl =\n",
              "        document.querySelector('#df-f47a18f0-602b-46d3-8402-adb964359039 button');\n",
              "      quickchartButtonEl.style.display =\n",
              "        google.colab.kernel.accessAllowed ? 'block' : 'none';\n",
              "    })();\n",
              "  </script>\n",
              "</div>\n",
              "\n",
              "    </div>\n",
              "  </div>\n"
            ],
            "text/plain": [
              "   Unnamed: 0  rate_marriage   age  yrs_married  children  religious  educ  \\\n",
              "0           0              3  32.0          9.0       3.0          3    17   \n",
              "1           1              3  27.0         13.0       3.0          1    14   \n",
              "2           2              4  22.0          2.5       0.0          1    16   \n",
              "3           3              4  37.0         16.5       4.0          3    16   \n",
              "4           4              5  27.0          9.0       1.0          1    14   \n",
              "\n",
              "   occupation  occupation_husb   affairs  affairs_yes_no  \n",
              "0           2                5  0.111111               1  \n",
              "1           3                4  3.230769               1  \n",
              "2           3                5  1.400000               1  \n",
              "3           5                5  0.727273               1  \n",
              "4           3                4  4.666666               1  "
            ]
          },
          "execution_count": 104,
          "metadata": {},
          "output_type": "execute_result"
        }
      ],
      "source": [
        "df1 = pd.read_excel(\"/content/drive/MyDrive/STAT_312/HW_3/affairs.xlsx\")\n",
        "df1.head()"
      ]
    },
    {
      "cell_type": "code",
      "execution_count": null,
      "metadata": {
        "colab": {
          "base_uri": "https://localhost:8080/",
          "height": 243
        },
        "id": "UnpjOZYkaymY",
        "outputId": "bc2381a5-a472-483a-ded7-c4ec62948893"
      },
      "outputs": [
        {
          "data": {
            "application/vnd.google.colaboratory.intrinsic+json": {
              "summary": "{\n  \"name\": \"df1\",\n  \"rows\": 6366,\n  \"fields\": [\n    {\n      \"column\": \"Unnamed: 0\",\n      \"properties\": {\n        \"dtype\": \"number\",\n        \"std\": 1837,\n        \"min\": 0,\n        \"max\": 6365,\n        \"num_unique_values\": 6366,\n        \"samples\": [\n          5988,\n          217,\n          5339\n        ],\n        \"semantic_type\": \"\",\n        \"description\": \"\"\n      }\n    },\n    {\n      \"column\": \"rate_marriage\",\n      \"properties\": {\n        \"dtype\": \"number\",\n        \"std\": 0,\n        \"min\": 1,\n        \"max\": 5,\n        \"num_unique_values\": 5,\n        \"samples\": [\n          4,\n          1,\n          5\n        ],\n        \"semantic_type\": \"\",\n        \"description\": \"\"\n      }\n    },\n    {\n      \"column\": \"age\",\n      \"properties\": {\n        \"dtype\": \"number\",\n        \"std\": 6.847881883668904,\n        \"min\": 17.5,\n        \"max\": 42.0,\n        \"num_unique_values\": 6,\n        \"samples\": [\n          32.0,\n          27.0,\n          17.5\n        ],\n        \"semantic_type\": \"\",\n        \"description\": \"\"\n      }\n    },\n    {\n      \"column\": \"yrs_married\",\n      \"properties\": {\n        \"dtype\": \"number\",\n        \"std\": 7.280119972766367,\n        \"min\": 0.5,\n        \"max\": 23.0,\n        \"num_unique_values\": 7,\n        \"samples\": [\n          9.0,\n          13.0,\n          6.0\n        ],\n        \"semantic_type\": \"\",\n        \"description\": \"\"\n      }\n    },\n    {\n      \"column\": \"children\",\n      \"properties\": {\n        \"dtype\": \"number\",\n        \"std\": 1.4334708285604203,\n        \"min\": 0.0,\n        \"max\": 5.5,\n        \"num_unique_values\": 6,\n        \"samples\": [\n          3.0,\n          0.0,\n          2.0\n        ],\n        \"semantic_type\": \"\",\n        \"description\": \"\"\n      }\n    },\n    {\n      \"column\": \"religious\",\n      \"properties\": {\n        \"dtype\": \"number\",\n        \"std\": 0,\n        \"min\": 1,\n        \"max\": 4,\n        \"num_unique_values\": 4,\n        \"samples\": [\n          1,\n          4,\n          3\n        ],\n        \"semantic_type\": \"\",\n        \"description\": \"\"\n      }\n    },\n    {\n      \"column\": \"educ\",\n      \"properties\": {\n        \"dtype\": \"number\",\n        \"std\": 2,\n        \"min\": 9,\n        \"max\": 20,\n        \"num_unique_values\": 6,\n        \"samples\": [\n          17,\n          14,\n          9\n        ],\n        \"semantic_type\": \"\",\n        \"description\": \"\"\n      }\n    },\n    {\n      \"column\": \"occupation\",\n      \"properties\": {\n        \"dtype\": \"number\",\n        \"std\": 0,\n        \"min\": 1,\n        \"max\": 6,\n        \"num_unique_values\": 6,\n        \"samples\": [\n          2,\n          3,\n          6\n        ],\n        \"semantic_type\": \"\",\n        \"description\": \"\"\n      }\n    },\n    {\n      \"column\": \"occupation_husb\",\n      \"properties\": {\n        \"dtype\": \"number\",\n        \"std\": 1,\n        \"min\": 1,\n        \"max\": 6,\n        \"num_unique_values\": 6,\n        \"samples\": [\n          5,\n          4,\n          1\n        ],\n        \"semantic_type\": \"\",\n        \"description\": \"\"\n      }\n    },\n    {\n      \"column\": \"affairs\",\n      \"properties\": {\n        \"dtype\": \"number\",\n        \"std\": 2.2033737448585184,\n        \"min\": 0.0,\n        \"max\": 57.5999908,\n        \"num_unique_values\": 77,\n        \"samples\": [\n          4.666666,\n          0.0606061,\n          2.041666\n        ],\n        \"semantic_type\": \"\",\n        \"description\": \"\"\n      }\n    },\n    {\n      \"column\": \"affairs_yes_no\",\n      \"properties\": {\n        \"dtype\": \"number\",\n        \"std\": 0,\n        \"min\": 0,\n        \"max\": 1,\n        \"num_unique_values\": 2,\n        \"samples\": [\n          0,\n          1\n        ],\n        \"semantic_type\": \"\",\n        \"description\": \"\"\n      }\n    }\n  ]\n}",
              "type": "dataframe",
              "variable_name": "df1"
            },
            "text/html": [
              "\n",
              "  <div id=\"df-8bfe29ff-5908-4c99-aa65-8d0113729937\" class=\"colab-df-container\">\n",
              "    <div>\n",
              "<style scoped>\n",
              "    .dataframe tbody tr th:only-of-type {\n",
              "        vertical-align: middle;\n",
              "    }\n",
              "\n",
              "    .dataframe tbody tr th {\n",
              "        vertical-align: top;\n",
              "    }\n",
              "\n",
              "    .dataframe thead th {\n",
              "        text-align: right;\n",
              "    }\n",
              "</style>\n",
              "<table border=\"1\" class=\"dataframe\">\n",
              "  <thead>\n",
              "    <tr style=\"text-align: right;\">\n",
              "      <th></th>\n",
              "      <th>Unnamed: 0</th>\n",
              "      <th>rate_marriage</th>\n",
              "      <th>age</th>\n",
              "      <th>yrs_married</th>\n",
              "      <th>children</th>\n",
              "      <th>religious</th>\n",
              "      <th>educ</th>\n",
              "      <th>occupation</th>\n",
              "      <th>occupation_husb</th>\n",
              "      <th>affairs</th>\n",
              "      <th>affairs_yes_no</th>\n",
              "    </tr>\n",
              "  </thead>\n",
              "  <tbody>\n",
              "    <tr>\n",
              "      <th>0</th>\n",
              "      <td>0</td>\n",
              "      <td>3</td>\n",
              "      <td>32.0</td>\n",
              "      <td>9.0</td>\n",
              "      <td>3.0</td>\n",
              "      <td>3</td>\n",
              "      <td>17</td>\n",
              "      <td>2</td>\n",
              "      <td>5</td>\n",
              "      <td>0.111111</td>\n",
              "      <td>1</td>\n",
              "    </tr>\n",
              "    <tr>\n",
              "      <th>1</th>\n",
              "      <td>1</td>\n",
              "      <td>3</td>\n",
              "      <td>27.0</td>\n",
              "      <td>13.0</td>\n",
              "      <td>3.0</td>\n",
              "      <td>1</td>\n",
              "      <td>14</td>\n",
              "      <td>3</td>\n",
              "      <td>4</td>\n",
              "      <td>3.230769</td>\n",
              "      <td>1</td>\n",
              "    </tr>\n",
              "    <tr>\n",
              "      <th>2</th>\n",
              "      <td>2</td>\n",
              "      <td>4</td>\n",
              "      <td>22.0</td>\n",
              "      <td>2.5</td>\n",
              "      <td>0.0</td>\n",
              "      <td>1</td>\n",
              "      <td>16</td>\n",
              "      <td>3</td>\n",
              "      <td>5</td>\n",
              "      <td>1.400000</td>\n",
              "      <td>1</td>\n",
              "    </tr>\n",
              "    <tr>\n",
              "      <th>3</th>\n",
              "      <td>3</td>\n",
              "      <td>4</td>\n",
              "      <td>37.0</td>\n",
              "      <td>16.5</td>\n",
              "      <td>4.0</td>\n",
              "      <td>3</td>\n",
              "      <td>16</td>\n",
              "      <td>5</td>\n",
              "      <td>5</td>\n",
              "      <td>0.727273</td>\n",
              "      <td>1</td>\n",
              "    </tr>\n",
              "    <tr>\n",
              "      <th>4</th>\n",
              "      <td>4</td>\n",
              "      <td>5</td>\n",
              "      <td>27.0</td>\n",
              "      <td>9.0</td>\n",
              "      <td>1.0</td>\n",
              "      <td>1</td>\n",
              "      <td>14</td>\n",
              "      <td>3</td>\n",
              "      <td>4</td>\n",
              "      <td>4.666666</td>\n",
              "      <td>1</td>\n",
              "    </tr>\n",
              "  </tbody>\n",
              "</table>\n",
              "</div>\n",
              "    <div class=\"colab-df-buttons\">\n",
              "\n",
              "  <div class=\"colab-df-container\">\n",
              "    <button class=\"colab-df-convert\" onclick=\"convertToInteractive('df-8bfe29ff-5908-4c99-aa65-8d0113729937')\"\n",
              "            title=\"Convert this dataframe to an interactive table.\"\n",
              "            style=\"display:none;\">\n",
              "\n",
              "  <svg xmlns=\"http://www.w3.org/2000/svg\" height=\"24px\" viewBox=\"0 -960 960 960\">\n",
              "    <path d=\"M120-120v-720h720v720H120Zm60-500h600v-160H180v160Zm220 220h160v-160H400v160Zm0 220h160v-160H400v160ZM180-400h160v-160H180v160Zm440 0h160v-160H620v160ZM180-180h160v-160H180v160Zm440 0h160v-160H620v160Z\"/>\n",
              "  </svg>\n",
              "    </button>\n",
              "\n",
              "  <style>\n",
              "    .colab-df-container {\n",
              "      display:flex;\n",
              "      gap: 12px;\n",
              "    }\n",
              "\n",
              "    .colab-df-convert {\n",
              "      background-color: #E8F0FE;\n",
              "      border: none;\n",
              "      border-radius: 50%;\n",
              "      cursor: pointer;\n",
              "      display: none;\n",
              "      fill: #1967D2;\n",
              "      height: 32px;\n",
              "      padding: 0 0 0 0;\n",
              "      width: 32px;\n",
              "    }\n",
              "\n",
              "    .colab-df-convert:hover {\n",
              "      background-color: #E2EBFA;\n",
              "      box-shadow: 0px 1px 2px rgba(60, 64, 67, 0.3), 0px 1px 3px 1px rgba(60, 64, 67, 0.15);\n",
              "      fill: #174EA6;\n",
              "    }\n",
              "\n",
              "    .colab-df-buttons div {\n",
              "      margin-bottom: 4px;\n",
              "    }\n",
              "\n",
              "    [theme=dark] .colab-df-convert {\n",
              "      background-color: #3B4455;\n",
              "      fill: #D2E3FC;\n",
              "    }\n",
              "\n",
              "    [theme=dark] .colab-df-convert:hover {\n",
              "      background-color: #434B5C;\n",
              "      box-shadow: 0px 1px 3px 1px rgba(0, 0, 0, 0.15);\n",
              "      filter: drop-shadow(0px 1px 2px rgba(0, 0, 0, 0.3));\n",
              "      fill: #FFFFFF;\n",
              "    }\n",
              "  </style>\n",
              "\n",
              "    <script>\n",
              "      const buttonEl =\n",
              "        document.querySelector('#df-8bfe29ff-5908-4c99-aa65-8d0113729937 button.colab-df-convert');\n",
              "      buttonEl.style.display =\n",
              "        google.colab.kernel.accessAllowed ? 'block' : 'none';\n",
              "\n",
              "      async function convertToInteractive(key) {\n",
              "        const element = document.querySelector('#df-8bfe29ff-5908-4c99-aa65-8d0113729937');\n",
              "        const dataTable =\n",
              "          await google.colab.kernel.invokeFunction('convertToInteractive',\n",
              "                                                    [key], {});\n",
              "        if (!dataTable) return;\n",
              "\n",
              "        const docLinkHtml = 'Like what you see? Visit the ' +\n",
              "          '<a target=\"_blank\" href=https://colab.research.google.com/notebooks/data_table.ipynb>data table notebook</a>'\n",
              "          + ' to learn more about interactive tables.';\n",
              "        element.innerHTML = '';\n",
              "        dataTable['output_type'] = 'display_data';\n",
              "        await google.colab.output.renderOutput(dataTable, element);\n",
              "        const docLink = document.createElement('div');\n",
              "        docLink.innerHTML = docLinkHtml;\n",
              "        element.appendChild(docLink);\n",
              "      }\n",
              "    </script>\n",
              "  </div>\n",
              "\n",
              "\n",
              "<div id=\"df-d8a2477e-e2fb-4ccd-a47d-16c9d11ea5d5\">\n",
              "  <button class=\"colab-df-quickchart\" onclick=\"quickchart('df-d8a2477e-e2fb-4ccd-a47d-16c9d11ea5d5')\"\n",
              "            title=\"Suggest charts\"\n",
              "            style=\"display:none;\">\n",
              "\n",
              "<svg xmlns=\"http://www.w3.org/2000/svg\" height=\"24px\"viewBox=\"0 0 24 24\"\n",
              "     width=\"24px\">\n",
              "    <g>\n",
              "        <path d=\"M19 3H5c-1.1 0-2 .9-2 2v14c0 1.1.9 2 2 2h14c1.1 0 2-.9 2-2V5c0-1.1-.9-2-2-2zM9 17H7v-7h2v7zm4 0h-2V7h2v10zm4 0h-2v-4h2v4z\"/>\n",
              "    </g>\n",
              "</svg>\n",
              "  </button>\n",
              "\n",
              "<style>\n",
              "  .colab-df-quickchart {\n",
              "      --bg-color: #E8F0FE;\n",
              "      --fill-color: #1967D2;\n",
              "      --hover-bg-color: #E2EBFA;\n",
              "      --hover-fill-color: #174EA6;\n",
              "      --disabled-fill-color: #AAA;\n",
              "      --disabled-bg-color: #DDD;\n",
              "  }\n",
              "\n",
              "  [theme=dark] .colab-df-quickchart {\n",
              "      --bg-color: #3B4455;\n",
              "      --fill-color: #D2E3FC;\n",
              "      --hover-bg-color: #434B5C;\n",
              "      --hover-fill-color: #FFFFFF;\n",
              "      --disabled-bg-color: #3B4455;\n",
              "      --disabled-fill-color: #666;\n",
              "  }\n",
              "\n",
              "  .colab-df-quickchart {\n",
              "    background-color: var(--bg-color);\n",
              "    border: none;\n",
              "    border-radius: 50%;\n",
              "    cursor: pointer;\n",
              "    display: none;\n",
              "    fill: var(--fill-color);\n",
              "    height: 32px;\n",
              "    padding: 0;\n",
              "    width: 32px;\n",
              "  }\n",
              "\n",
              "  .colab-df-quickchart:hover {\n",
              "    background-color: var(--hover-bg-color);\n",
              "    box-shadow: 0 1px 2px rgba(60, 64, 67, 0.3), 0 1px 3px 1px rgba(60, 64, 67, 0.15);\n",
              "    fill: var(--button-hover-fill-color);\n",
              "  }\n",
              "\n",
              "  .colab-df-quickchart-complete:disabled,\n",
              "  .colab-df-quickchart-complete:disabled:hover {\n",
              "    background-color: var(--disabled-bg-color);\n",
              "    fill: var(--disabled-fill-color);\n",
              "    box-shadow: none;\n",
              "  }\n",
              "\n",
              "  .colab-df-spinner {\n",
              "    border: 2px solid var(--fill-color);\n",
              "    border-color: transparent;\n",
              "    border-bottom-color: var(--fill-color);\n",
              "    animation:\n",
              "      spin 1s steps(1) infinite;\n",
              "  }\n",
              "\n",
              "  @keyframes spin {\n",
              "    0% {\n",
              "      border-color: transparent;\n",
              "      border-bottom-color: var(--fill-color);\n",
              "      border-left-color: var(--fill-color);\n",
              "    }\n",
              "    20% {\n",
              "      border-color: transparent;\n",
              "      border-left-color: var(--fill-color);\n",
              "      border-top-color: var(--fill-color);\n",
              "    }\n",
              "    30% {\n",
              "      border-color: transparent;\n",
              "      border-left-color: var(--fill-color);\n",
              "      border-top-color: var(--fill-color);\n",
              "      border-right-color: var(--fill-color);\n",
              "    }\n",
              "    40% {\n",
              "      border-color: transparent;\n",
              "      border-right-color: var(--fill-color);\n",
              "      border-top-color: var(--fill-color);\n",
              "    }\n",
              "    60% {\n",
              "      border-color: transparent;\n",
              "      border-right-color: var(--fill-color);\n",
              "    }\n",
              "    80% {\n",
              "      border-color: transparent;\n",
              "      border-right-color: var(--fill-color);\n",
              "      border-bottom-color: var(--fill-color);\n",
              "    }\n",
              "    90% {\n",
              "      border-color: transparent;\n",
              "      border-bottom-color: var(--fill-color);\n",
              "    }\n",
              "  }\n",
              "</style>\n",
              "\n",
              "  <script>\n",
              "    async function quickchart(key) {\n",
              "      const quickchartButtonEl =\n",
              "        document.querySelector('#' + key + ' button');\n",
              "      quickchartButtonEl.disabled = true;  // To prevent multiple clicks.\n",
              "      quickchartButtonEl.classList.add('colab-df-spinner');\n",
              "      try {\n",
              "        const charts = await google.colab.kernel.invokeFunction(\n",
              "            'suggestCharts', [key], {});\n",
              "      } catch (error) {\n",
              "        console.error('Error during call to suggestCharts:', error);\n",
              "      }\n",
              "      quickchartButtonEl.classList.remove('colab-df-spinner');\n",
              "      quickchartButtonEl.classList.add('colab-df-quickchart-complete');\n",
              "    }\n",
              "    (() => {\n",
              "      let quickchartButtonEl =\n",
              "        document.querySelector('#df-d8a2477e-e2fb-4ccd-a47d-16c9d11ea5d5 button');\n",
              "      quickchartButtonEl.style.display =\n",
              "        google.colab.kernel.accessAllowed ? 'block' : 'none';\n",
              "    })();\n",
              "  </script>\n",
              "</div>\n",
              "\n",
              "    </div>\n",
              "  </div>\n"
            ],
            "text/plain": [
              "   Unnamed: 0  rate_marriage   age  yrs_married  children  religious  educ  \\\n",
              "0           0              3  32.0          9.0       3.0          3    17   \n",
              "1           1              3  27.0         13.0       3.0          1    14   \n",
              "2           2              4  22.0          2.5       0.0          1    16   \n",
              "3           3              4  37.0         16.5       4.0          3    16   \n",
              "4           4              5  27.0          9.0       1.0          1    14   \n",
              "\n",
              "   occupation  occupation_husb   affairs  affairs_yes_no  \n",
              "0           2                5  0.111111               1  \n",
              "1           3                4  3.230769               1  \n",
              "2           3                5  1.400000               1  \n",
              "3           5                5  0.727273               1  \n",
              "4           3                4  4.666666               1  "
            ]
          },
          "execution_count": 105,
          "metadata": {},
          "output_type": "execute_result"
        }
      ],
      "source": [
        "df1.groupby('affairs_yes_no')\n",
        "df1.head()"
      ]
    },
    {
      "cell_type": "markdown",
      "metadata": {
        "id": "VYV1RvaAZmcW"
      },
      "source": [
        "#**a. How many people had affairs? How many didn’t?**"
      ]
    },
    {
      "cell_type": "code",
      "execution_count": null,
      "metadata": {
        "colab": {
          "base_uri": "https://localhost:8080/",
          "height": 178
        },
        "id": "o2Of8iwBcajy",
        "outputId": "4b4de2c7-d5e9-458c-9759-e71baa2e7002"
      },
      "outputs": [
        {
          "data": {
            "text/html": [
              "<div>\n",
              "<style scoped>\n",
              "    .dataframe tbody tr th:only-of-type {\n",
              "        vertical-align: middle;\n",
              "    }\n",
              "\n",
              "    .dataframe tbody tr th {\n",
              "        vertical-align: top;\n",
              "    }\n",
              "\n",
              "    .dataframe thead th {\n",
              "        text-align: right;\n",
              "    }\n",
              "</style>\n",
              "<table border=\"1\" class=\"dataframe\">\n",
              "  <thead>\n",
              "    <tr style=\"text-align: right;\">\n",
              "      <th></th>\n",
              "      <th>count</th>\n",
              "    </tr>\n",
              "    <tr>\n",
              "      <th>affairs_yes_no</th>\n",
              "      <th></th>\n",
              "    </tr>\n",
              "  </thead>\n",
              "  <tbody>\n",
              "    <tr>\n",
              "      <th>0</th>\n",
              "      <td>4313</td>\n",
              "    </tr>\n",
              "    <tr>\n",
              "      <th>1</th>\n",
              "      <td>2053</td>\n",
              "    </tr>\n",
              "  </tbody>\n",
              "</table>\n",
              "</div><br><label><b>dtype:</b> int64</label>"
            ],
            "text/plain": [
              "affairs_yes_no\n",
              "0    4313\n",
              "1    2053\n",
              "Name: count, dtype: int64"
            ]
          },
          "execution_count": 106,
          "metadata": {},
          "output_type": "execute_result"
        }
      ],
      "source": [
        "df1['affairs_yes_no'].value_counts()"
      ]
    },
    {
      "cell_type": "markdown",
      "metadata": {
        "id": "FKZg4aUAiph1"
      },
      "source": [
        "#**b. What are some general findings from groupby? What are some general characteristics of those having affairs in terms of rate_marriage, age, yrs_married, children, religious, and educ.**"
      ]
    },
    {
      "cell_type": "code",
      "execution_count": null,
      "metadata": {
        "colab": {
          "base_uri": "https://localhost:8080/",
          "height": 181
        },
        "id": "gGulm20Ect3R",
        "outputId": "3e5ae561-91f3-4d43-80c0-f8fa7e4432fd"
      },
      "outputs": [
        {
          "data": {
            "application/vnd.google.colaboratory.intrinsic+json": {
              "summary": "{\n  \"name\": \"df1\",\n  \"rows\": 2,\n  \"fields\": [\n    {\n      \"column\": \"affairs_yes_no\",\n      \"properties\": {\n        \"dtype\": \"number\",\n        \"std\": 0,\n        \"min\": 0,\n        \"max\": 1,\n        \"num_unique_values\": 2,\n        \"samples\": [\n          1,\n          0\n        ],\n        \"semantic_type\": \"\",\n        \"description\": \"\"\n      }\n    },\n    {\n      \"column\": \"Unnamed: 0\",\n      \"properties\": {\n        \"dtype\": \"number\",\n        \"std\": 2250.7208845167806,\n        \"min\": 1026.0,\n        \"max\": 4209.0,\n        \"num_unique_values\": 2,\n        \"samples\": [\n          1026.0,\n          4209.0\n        ],\n        \"semantic_type\": \"\",\n        \"description\": \"\"\n      }\n    },\n    {\n      \"column\": \"rate_marriage\",\n      \"properties\": {\n        \"dtype\": \"number\",\n        \"std\": 0.4824982408082331,\n        \"min\": 3.6473453482708234,\n        \"max\": 4.329700904242986,\n        \"num_unique_values\": 2,\n        \"samples\": [\n          3.6473453482708234,\n          4.329700904242986\n        ],\n        \"semantic_type\": \"\",\n        \"description\": \"\"\n      }\n    },\n    {\n      \"column\": \"age\",\n      \"properties\": {\n        \"dtype\": \"number\",\n        \"std\": 1.5176913248258703,\n        \"min\": 28.39067934152562,\n        \"max\": 30.537018996590355,\n        \"num_unique_values\": 2,\n        \"samples\": [\n          30.537018996590355,\n          28.39067934152562\n        ],\n        \"semantic_type\": \"\",\n        \"description\": \"\"\n      }\n    },\n    {\n      \"column\": \"yrs_married\",\n      \"properties\": {\n        \"dtype\": \"number\",\n        \"std\": 2.2366673104819146,\n        \"min\": 7.989334569904939,\n        \"max\": 11.152459814905017,\n        \"num_unique_values\": 2,\n        \"samples\": [\n          11.152459814905017,\n          7.989334569904939\n        ],\n        \"semantic_type\": \"\",\n        \"description\": \"\"\n      }\n    },\n    {\n      \"column\": \"children\",\n      \"properties\": {\n        \"dtype\": \"number\",\n        \"std\": 0.3465674422654407,\n        \"min\": 1.2388128912589844,\n        \"max\": 1.7289332683877252,\n        \"num_unique_values\": 2,\n        \"samples\": [\n          1.7289332683877252,\n          1.2388128912589844\n        ],\n        \"semantic_type\": \"\",\n        \"description\": \"\"\n      }\n    },\n    {\n      \"column\": \"religious\",\n      \"properties\": {\n        \"dtype\": \"number\",\n        \"std\": 0.17179355718342423,\n        \"min\": 2.261568436434486,\n        \"max\": 2.5045212149316023,\n        \"num_unique_values\": 2,\n        \"samples\": [\n          2.261568436434486,\n          2.5045212149316023\n        ],\n        \"semantic_type\": \"\",\n        \"description\": \"\"\n      }\n    },\n    {\n      \"column\": \"educ\",\n      \"properties\": {\n        \"dtype\": \"number\",\n        \"std\": 0.2480115471342168,\n        \"min\": 13.972235752557234,\n        \"max\": 14.322977046139577,\n        \"num_unique_values\": 2,\n        \"samples\": [\n          13.972235752557234,\n          14.322977046139577\n        ],\n        \"semantic_type\": \"\",\n        \"description\": \"\"\n      }\n    },\n    {\n      \"column\": \"occupation\",\n      \"properties\": {\n        \"dtype\": \"number\",\n        \"std\": 0.04131292432938434,\n        \"min\": 3.405286343612335,\n        \"max\": 3.4637116415002436,\n        \"num_unique_values\": 2,\n        \"samples\": [\n          3.4637116415002436,\n          3.405286343612335\n        ],\n        \"semantic_type\": \"\",\n        \"description\": \"\"\n      }\n    },\n    {\n      \"column\": \"occupation_husb\",\n      \"properties\": {\n        \"dtype\": \"number\",\n        \"std\": 0.03592157380916652,\n        \"min\": 3.833758404822629,\n        \"max\": 3.8845591816853386,\n        \"num_unique_values\": 2,\n        \"samples\": [\n          3.8845591816853386,\n          3.833758404822629\n        ],\n        \"semantic_type\": \"\",\n        \"description\": \"\"\n      }\n    },\n    {\n      \"column\": \"affairs\",\n      \"properties\": {\n        \"dtype\": \"number\",\n        \"std\": 1.5466144581474415,\n        \"min\": 0.0,\n        \"max\": 2.1872431424744274,\n        \"num_unique_values\": 2,\n        \"samples\": [\n          2.1872431424744274,\n          0.0\n        ],\n        \"semantic_type\": \"\",\n        \"description\": \"\"\n      }\n    }\n  ]\n}",
              "type": "dataframe"
            },
            "text/html": [
              "\n",
              "  <div id=\"df-9ce6c61c-0592-48ad-bdf2-f2ebaf8e31f8\" class=\"colab-df-container\">\n",
              "    <div>\n",
              "<style scoped>\n",
              "    .dataframe tbody tr th:only-of-type {\n",
              "        vertical-align: middle;\n",
              "    }\n",
              "\n",
              "    .dataframe tbody tr th {\n",
              "        vertical-align: top;\n",
              "    }\n",
              "\n",
              "    .dataframe thead th {\n",
              "        text-align: right;\n",
              "    }\n",
              "</style>\n",
              "<table border=\"1\" class=\"dataframe\">\n",
              "  <thead>\n",
              "    <tr style=\"text-align: right;\">\n",
              "      <th></th>\n",
              "      <th>Unnamed: 0</th>\n",
              "      <th>rate_marriage</th>\n",
              "      <th>age</th>\n",
              "      <th>yrs_married</th>\n",
              "      <th>children</th>\n",
              "      <th>religious</th>\n",
              "      <th>educ</th>\n",
              "      <th>occupation</th>\n",
              "      <th>occupation_husb</th>\n",
              "      <th>affairs</th>\n",
              "    </tr>\n",
              "    <tr>\n",
              "      <th>affairs_yes_no</th>\n",
              "      <th></th>\n",
              "      <th></th>\n",
              "      <th></th>\n",
              "      <th></th>\n",
              "      <th></th>\n",
              "      <th></th>\n",
              "      <th></th>\n",
              "      <th></th>\n",
              "      <th></th>\n",
              "      <th></th>\n",
              "    </tr>\n",
              "  </thead>\n",
              "  <tbody>\n",
              "    <tr>\n",
              "      <th>0</th>\n",
              "      <td>4209.0</td>\n",
              "      <td>4.329701</td>\n",
              "      <td>28.390679</td>\n",
              "      <td>7.989335</td>\n",
              "      <td>1.238813</td>\n",
              "      <td>2.504521</td>\n",
              "      <td>14.322977</td>\n",
              "      <td>3.405286</td>\n",
              "      <td>3.833758</td>\n",
              "      <td>0.000000</td>\n",
              "    </tr>\n",
              "    <tr>\n",
              "      <th>1</th>\n",
              "      <td>1026.0</td>\n",
              "      <td>3.647345</td>\n",
              "      <td>30.537019</td>\n",
              "      <td>11.152460</td>\n",
              "      <td>1.728933</td>\n",
              "      <td>2.261568</td>\n",
              "      <td>13.972236</td>\n",
              "      <td>3.463712</td>\n",
              "      <td>3.884559</td>\n",
              "      <td>2.187243</td>\n",
              "    </tr>\n",
              "  </tbody>\n",
              "</table>\n",
              "</div>\n",
              "    <div class=\"colab-df-buttons\">\n",
              "\n",
              "  <div class=\"colab-df-container\">\n",
              "    <button class=\"colab-df-convert\" onclick=\"convertToInteractive('df-9ce6c61c-0592-48ad-bdf2-f2ebaf8e31f8')\"\n",
              "            title=\"Convert this dataframe to an interactive table.\"\n",
              "            style=\"display:none;\">\n",
              "\n",
              "  <svg xmlns=\"http://www.w3.org/2000/svg\" height=\"24px\" viewBox=\"0 -960 960 960\">\n",
              "    <path d=\"M120-120v-720h720v720H120Zm60-500h600v-160H180v160Zm220 220h160v-160H400v160Zm0 220h160v-160H400v160ZM180-400h160v-160H180v160Zm440 0h160v-160H620v160ZM180-180h160v-160H180v160Zm440 0h160v-160H620v160Z\"/>\n",
              "  </svg>\n",
              "    </button>\n",
              "\n",
              "  <style>\n",
              "    .colab-df-container {\n",
              "      display:flex;\n",
              "      gap: 12px;\n",
              "    }\n",
              "\n",
              "    .colab-df-convert {\n",
              "      background-color: #E8F0FE;\n",
              "      border: none;\n",
              "      border-radius: 50%;\n",
              "      cursor: pointer;\n",
              "      display: none;\n",
              "      fill: #1967D2;\n",
              "      height: 32px;\n",
              "      padding: 0 0 0 0;\n",
              "      width: 32px;\n",
              "    }\n",
              "\n",
              "    .colab-df-convert:hover {\n",
              "      background-color: #E2EBFA;\n",
              "      box-shadow: 0px 1px 2px rgba(60, 64, 67, 0.3), 0px 1px 3px 1px rgba(60, 64, 67, 0.15);\n",
              "      fill: #174EA6;\n",
              "    }\n",
              "\n",
              "    .colab-df-buttons div {\n",
              "      margin-bottom: 4px;\n",
              "    }\n",
              "\n",
              "    [theme=dark] .colab-df-convert {\n",
              "      background-color: #3B4455;\n",
              "      fill: #D2E3FC;\n",
              "    }\n",
              "\n",
              "    [theme=dark] .colab-df-convert:hover {\n",
              "      background-color: #434B5C;\n",
              "      box-shadow: 0px 1px 3px 1px rgba(0, 0, 0, 0.15);\n",
              "      filter: drop-shadow(0px 1px 2px rgba(0, 0, 0, 0.3));\n",
              "      fill: #FFFFFF;\n",
              "    }\n",
              "  </style>\n",
              "\n",
              "    <script>\n",
              "      const buttonEl =\n",
              "        document.querySelector('#df-9ce6c61c-0592-48ad-bdf2-f2ebaf8e31f8 button.colab-df-convert');\n",
              "      buttonEl.style.display =\n",
              "        google.colab.kernel.accessAllowed ? 'block' : 'none';\n",
              "\n",
              "      async function convertToInteractive(key) {\n",
              "        const element = document.querySelector('#df-9ce6c61c-0592-48ad-bdf2-f2ebaf8e31f8');\n",
              "        const dataTable =\n",
              "          await google.colab.kernel.invokeFunction('convertToInteractive',\n",
              "                                                    [key], {});\n",
              "        if (!dataTable) return;\n",
              "\n",
              "        const docLinkHtml = 'Like what you see? Visit the ' +\n",
              "          '<a target=\"_blank\" href=https://colab.research.google.com/notebooks/data_table.ipynb>data table notebook</a>'\n",
              "          + ' to learn more about interactive tables.';\n",
              "        element.innerHTML = '';\n",
              "        dataTable['output_type'] = 'display_data';\n",
              "        await google.colab.output.renderOutput(dataTable, element);\n",
              "        const docLink = document.createElement('div');\n",
              "        docLink.innerHTML = docLinkHtml;\n",
              "        element.appendChild(docLink);\n",
              "      }\n",
              "    </script>\n",
              "  </div>\n",
              "\n",
              "\n",
              "<div id=\"df-30cd0a4f-46f3-4160-ac5e-d75c2703afba\">\n",
              "  <button class=\"colab-df-quickchart\" onclick=\"quickchart('df-30cd0a4f-46f3-4160-ac5e-d75c2703afba')\"\n",
              "            title=\"Suggest charts\"\n",
              "            style=\"display:none;\">\n",
              "\n",
              "<svg xmlns=\"http://www.w3.org/2000/svg\" height=\"24px\"viewBox=\"0 0 24 24\"\n",
              "     width=\"24px\">\n",
              "    <g>\n",
              "        <path d=\"M19 3H5c-1.1 0-2 .9-2 2v14c0 1.1.9 2 2 2h14c1.1 0 2-.9 2-2V5c0-1.1-.9-2-2-2zM9 17H7v-7h2v7zm4 0h-2V7h2v10zm4 0h-2v-4h2v4z\"/>\n",
              "    </g>\n",
              "</svg>\n",
              "  </button>\n",
              "\n",
              "<style>\n",
              "  .colab-df-quickchart {\n",
              "      --bg-color: #E8F0FE;\n",
              "      --fill-color: #1967D2;\n",
              "      --hover-bg-color: #E2EBFA;\n",
              "      --hover-fill-color: #174EA6;\n",
              "      --disabled-fill-color: #AAA;\n",
              "      --disabled-bg-color: #DDD;\n",
              "  }\n",
              "\n",
              "  [theme=dark] .colab-df-quickchart {\n",
              "      --bg-color: #3B4455;\n",
              "      --fill-color: #D2E3FC;\n",
              "      --hover-bg-color: #434B5C;\n",
              "      --hover-fill-color: #FFFFFF;\n",
              "      --disabled-bg-color: #3B4455;\n",
              "      --disabled-fill-color: #666;\n",
              "  }\n",
              "\n",
              "  .colab-df-quickchart {\n",
              "    background-color: var(--bg-color);\n",
              "    border: none;\n",
              "    border-radius: 50%;\n",
              "    cursor: pointer;\n",
              "    display: none;\n",
              "    fill: var(--fill-color);\n",
              "    height: 32px;\n",
              "    padding: 0;\n",
              "    width: 32px;\n",
              "  }\n",
              "\n",
              "  .colab-df-quickchart:hover {\n",
              "    background-color: var(--hover-bg-color);\n",
              "    box-shadow: 0 1px 2px rgba(60, 64, 67, 0.3), 0 1px 3px 1px rgba(60, 64, 67, 0.15);\n",
              "    fill: var(--button-hover-fill-color);\n",
              "  }\n",
              "\n",
              "  .colab-df-quickchart-complete:disabled,\n",
              "  .colab-df-quickchart-complete:disabled:hover {\n",
              "    background-color: var(--disabled-bg-color);\n",
              "    fill: var(--disabled-fill-color);\n",
              "    box-shadow: none;\n",
              "  }\n",
              "\n",
              "  .colab-df-spinner {\n",
              "    border: 2px solid var(--fill-color);\n",
              "    border-color: transparent;\n",
              "    border-bottom-color: var(--fill-color);\n",
              "    animation:\n",
              "      spin 1s steps(1) infinite;\n",
              "  }\n",
              "\n",
              "  @keyframes spin {\n",
              "    0% {\n",
              "      border-color: transparent;\n",
              "      border-bottom-color: var(--fill-color);\n",
              "      border-left-color: var(--fill-color);\n",
              "    }\n",
              "    20% {\n",
              "      border-color: transparent;\n",
              "      border-left-color: var(--fill-color);\n",
              "      border-top-color: var(--fill-color);\n",
              "    }\n",
              "    30% {\n",
              "      border-color: transparent;\n",
              "      border-left-color: var(--fill-color);\n",
              "      border-top-color: var(--fill-color);\n",
              "      border-right-color: var(--fill-color);\n",
              "    }\n",
              "    40% {\n",
              "      border-color: transparent;\n",
              "      border-right-color: var(--fill-color);\n",
              "      border-top-color: var(--fill-color);\n",
              "    }\n",
              "    60% {\n",
              "      border-color: transparent;\n",
              "      border-right-color: var(--fill-color);\n",
              "    }\n",
              "    80% {\n",
              "      border-color: transparent;\n",
              "      border-right-color: var(--fill-color);\n",
              "      border-bottom-color: var(--fill-color);\n",
              "    }\n",
              "    90% {\n",
              "      border-color: transparent;\n",
              "      border-bottom-color: var(--fill-color);\n",
              "    }\n",
              "  }\n",
              "</style>\n",
              "\n",
              "  <script>\n",
              "    async function quickchart(key) {\n",
              "      const quickchartButtonEl =\n",
              "        document.querySelector('#' + key + ' button');\n",
              "      quickchartButtonEl.disabled = true;  // To prevent multiple clicks.\n",
              "      quickchartButtonEl.classList.add('colab-df-spinner');\n",
              "      try {\n",
              "        const charts = await google.colab.kernel.invokeFunction(\n",
              "            'suggestCharts', [key], {});\n",
              "      } catch (error) {\n",
              "        console.error('Error during call to suggestCharts:', error);\n",
              "      }\n",
              "      quickchartButtonEl.classList.remove('colab-df-spinner');\n",
              "      quickchartButtonEl.classList.add('colab-df-quickchart-complete');\n",
              "    }\n",
              "    (() => {\n",
              "      let quickchartButtonEl =\n",
              "        document.querySelector('#df-30cd0a4f-46f3-4160-ac5e-d75c2703afba button');\n",
              "      quickchartButtonEl.style.display =\n",
              "        google.colab.kernel.accessAllowed ? 'block' : 'none';\n",
              "    })();\n",
              "  </script>\n",
              "</div>\n",
              "\n",
              "    </div>\n",
              "  </div>\n"
            ],
            "text/plain": [
              "                Unnamed: 0  rate_marriage        age  yrs_married  children  \\\n",
              "affairs_yes_no                                                                \n",
              "0                   4209.0       4.329701  28.390679     7.989335  1.238813   \n",
              "1                   1026.0       3.647345  30.537019    11.152460  1.728933   \n",
              "\n",
              "                religious       educ  occupation  occupation_husb   affairs  \n",
              "affairs_yes_no                                                               \n",
              "0                2.504521  14.322977    3.405286         3.833758  0.000000  \n",
              "1                2.261568  13.972236    3.463712         3.884559  2.187243  "
            ]
          },
          "execution_count": 107,
          "metadata": {},
          "output_type": "execute_result"
        }
      ],
      "source": [
        "df1.groupby('affairs_yes_no').mean()"
      ]
    },
    {
      "cell_type": "code",
      "execution_count": null,
      "metadata": {
        "colab": {
          "base_uri": "https://localhost:8080/"
        },
        "id": "Prhj8XuWhFRo",
        "outputId": "0e5e2539-08dc-49b2-e4dc-e5a70b195bb9"
      },
      "outputs": [
        {
          "name": "stdout",
          "output_type": "stream",
          "text": [
            "<bound method NDFrame.describe of       Unnamed: 0  rate_marriage   age  yrs_married  children  religious  educ  \\\n",
            "0              0              3  32.0          9.0       3.0          3    17   \n",
            "1              1              3  27.0         13.0       3.0          1    14   \n",
            "2              2              4  22.0          2.5       0.0          1    16   \n",
            "3              3              4  37.0         16.5       4.0          3    16   \n",
            "4              4              5  27.0          9.0       1.0          1    14   \n",
            "...          ...            ...   ...          ...       ...        ...   ...   \n",
            "6361        6361              5  32.0         13.0       2.0          3    17   \n",
            "6362        6362              4  32.0         13.0       1.0          1    16   \n",
            "6363        6363              5  22.0          2.5       0.0          2    14   \n",
            "6364        6364              5  32.0          6.0       1.0          3    14   \n",
            "6365        6365              4  22.0          2.5       0.0          2    16   \n",
            "\n",
            "      occupation  occupation_husb   affairs  affairs_yes_no  \n",
            "0              2                5  0.111111               1  \n",
            "1              3                4  3.230769               1  \n",
            "2              3                5  1.400000               1  \n",
            "3              5                5  0.727273               1  \n",
            "4              3                4  4.666666               1  \n",
            "...          ...              ...       ...             ...  \n",
            "6361           4                3  0.000000               0  \n",
            "6362           5                5  0.000000               0  \n",
            "6363           3                1  0.000000               0  \n",
            "6364           3                4  0.000000               0  \n",
            "6365           2                4  0.000000               0  \n",
            "\n",
            "[6366 rows x 11 columns]>\n"
          ]
        }
      ],
      "source": [
        "print(df1.describe)"
      ]
    },
    {
      "cell_type": "code",
      "execution_count": null,
      "metadata": {
        "colab": {
          "base_uri": "https://localhost:8080/"
        },
        "id": "oCzs0GZbhUd5",
        "outputId": "26e93da8-dafb-427a-c7f7-33e9cf644467"
      },
      "outputs": [
        {
          "name": "stdout",
          "output_type": "stream",
          "text": [
            "affairs_yes_no\n",
            "0    4313\n",
            "1    2053\n",
            "Name: count, dtype: int64\n"
          ]
        }
      ],
      "source": [
        "affairs_count = df1['affairs_yes_no'].value_counts()\n",
        "print(affairs_count)\n",
        "\n",
        "\n"
      ]
    },
    {
      "cell_type": "code",
      "execution_count": null,
      "metadata": {
        "id": "IQt-QePeiPkE"
      },
      "outputs": [],
      "source": [
        "\n"
      ]
    },
    {
      "cell_type": "markdown",
      "metadata": {
        "id": "D8S-9s0Kabnu"
      },
      "source": [
        "#c. Is there a statistically significant difference between those having affairs and those don’t in terms of religious devotion? Explain the relationship between religious devotion and affairs.\n",
        "\n",
        "The relationship between affairs and religion devotion does seem to have some correlation, as the analysis reveals a statistically significant difference in religious devotion between individuals having affairs, and those not having affairs. The correlation analysis shows a moderate negative correlation between religious devotion and affair likelihood. The findings suggest that higher religious devotion is associated with lower likelihood of having an affair"
      ]
    },
    {
      "cell_type": "code",
      "execution_count": null,
      "metadata": {
        "id": "KaN3GvbIVwC3"
      },
      "outputs": [],
      "source": [
        "affairs_group = df1[df1['affairs_yes_no'] == 1]['religious']\n",
        "non_affairs_group = df1[df1['affairs_yes_no'] == 0]['religious']\n"
      ]
    },
    {
      "cell_type": "code",
      "execution_count": null,
      "metadata": {
        "colab": {
          "base_uri": "https://localhost:8080/"
        },
        "id": "I5ztBaBFmdB5",
        "outputId": "552d2e00-c9b4-4492-9ae3-4c1f2d7bed1b"
      },
      "outputs": [
        {
          "name": "stdout",
          "output_type": "stream",
          "text": [
            "Affairs Group - Normality Test: Statistics=258.107, p-value=0.000\n",
            "Non Affairs Group - Normality Test: Statistics=258.107, p-value=0.000\n"
          ]
        }
      ],
      "source": [
        "stat_aff, p_aff = normaltest(non_affairs_group)\n",
        "print('Affairs Group - Normality Test: Statistics=%.3f, p-value=%.3f' % (stat_aff, p_aff))\n",
        "\n",
        "stat_no_aff, p_no_aff = normaltest(affairs_group)\n",
        "print('Non Affairs Group - Normality Test: Statistics=%.3f, p-value=%.3f' % (stat_aff, p_aff))"
      ]
    },
    {
      "cell_type": "code",
      "execution_count": null,
      "metadata": {
        "colab": {
          "base_uri": "https://localhost:8080/"
        },
        "id": "a3EjSi1Rr4yL",
        "outputId": "bed8dffa-23e3-478d-d2bb-a168054813c5"
      },
      "outputs": [
        {
          "name": "stdout",
          "output_type": "stream",
          "text": [
            "Levene Test: Statistics=23.544, p-value=0.000\n"
          ]
        }
      ],
      "source": [
        "levene_output = levene(affairs_group, non_affairs_group)\n",
        "stat_levene, pvalue_levene = levene(affairs_group, non_affairs_group)\n",
        "print('Levene Test: Statistics=%.3f, p-value=%.3f' % (stat_levene, pvalue_levene))"
      ]
    },
    {
      "cell_type": "code",
      "execution_count": null,
      "metadata": {
        "colab": {
          "base_uri": "https://localhost:8080/"
        },
        "id": "MlVQ0V0kkFp6",
        "outputId": "ad013fb8-c701-4d0e-e7fb-aae9136992f1"
      },
      "outputs": [
        {
          "name": "stdout",
          "output_type": "stream",
          "text": [
            "t-statistic: -10.402141299926294, p-value: 3.8524146899260583e-25\n",
            "Reject null hypothesis: means are significantly different.\n"
          ]
        }
      ],
      "source": [
        "t_stat, p_val = ttest_ind(affairs_group, non_affairs_group)\n",
        "\n",
        "print(f\"t-statistic: {t_stat}, p-value: {p_val}\")\n",
        "\n",
        "alpha = 0.05\n",
        "if p_val < alpha:\n",
        "    print(\"Reject null hypothesis: means are significantly different.\")\n",
        "else:\n",
        "    print(\"Fail to reject null hypothesis: means are not significantly different.\")"
      ]
    },
    {
      "cell_type": "code",
      "execution_count": null,
      "metadata": {
        "colab": {
          "base_uri": "https://localhost:8080/",
          "height": 559
        },
        "id": "IlExQAx9f31m",
        "outputId": "95021cbc-7b9e-4e71-97fb-523278d3f1e5"
      },
      "outputs": [
        {
          "data": {
            "image/png": "[encoded data removed]",
            "text/plain": [
              "<Figure size 1000x600 with 1 Axes>"
            ]
          },
          "metadata": {},
          "output_type": "display_data"
        }
      ],
      "source": [
        "affairs_devotion = pd.crosstab(df1['affairs_yes_no'], df1['religious'])\n",
        "\n",
        "affairs_devotion.plot(kind='bar', stacked=False, figsize=(10, 6))\n",
        "plt.title('Religious Devotion by Affairs Status')\n",
        "plt.xlabel('Affairs Status')\n",
        "plt.ylabel('Count')\n",
        "plt.legend(title='Religious Devotion')\n",
        "plt.show()"
      ]
    },
    {
      "cell_type": "code",
      "execution_count": null,
      "metadata": {
        "colab": {
          "base_uri": "https://localhost:8080/"
        },
        "id": "Y0E-H0Uzhm7_",
        "outputId": "b5671071-e549-4d2d-d6f6-58623aa7d630"
      },
      "outputs": [
        {
          "name": "stdout",
          "output_type": "stream",
          "text": [
            "Mann-Whitney U Test: Statistics=5089859.000, p-value=0.000\n"
          ]
        }
      ],
      "source": [
        "stat, p = mannwhitneyu(non_affairs_group, affairs_group)\n",
        "print('Mann-Whitney U Test: Statistics=%.3f, p-value=%.3f' % (stat, p))"
      ]
    },
    {
      "cell_type": "code",
      "execution_count": null,
      "metadata": {
        "colab": {
          "base_uri": "https://localhost:8080/"
        },
        "id": "15V_bmQTmFCx",
        "outputId": "863c87c5-d0a1-41e8-d49e-eb705aaa786d"
      },
      "outputs": [
        {
          "name": "stdout",
          "output_type": "stream",
          "text": [
            "Chi-squared statistic: 113.52785751392398, p-value: 1.909881357296901e-24\n"
          ]
        }
      ],
      "source": [
        "# Create contingency table\n",
        "contingency_table = pd.crosstab(df1['affairs_yes_no'], df1['religious'])\n",
        "\n",
        "# Chi-squared test\n",
        "chi2_stat, p_val, dof, expected = chi2_contingency(contingency_table)\n",
        "\n",
        "print(f\"Chi-squared statistic: {chi2_stat}, p-value: {p_val}\")"
      ]
    },
    {
      "cell_type": "markdown",
      "metadata": {
        "id": "pfu2Osswa-of"
      },
      "source": [
        "# Is there a statistically significant difference between those having affairs and those don’t in terms of rate_marriage? Explain the relationship between rate_marriage and affairs.\n",
        "\n",
        "Our analysis reveals two key factors influencing affair likelihood: marriage rating and religious devotion. A higher marriage rating strongly correlates with no affair, while lower ratings increase affair likelihood. Furthermore, higher religious devotion significantly decreases affair likelihood, suggesting that strong marital satisfaction and religious commitment collectively reduce the propensity for extramarital affairs"
      ]
    },
    {
      "cell_type": "code",
      "execution_count": null,
      "metadata": {
        "id": "hdyo8BLUjiIo"
      },
      "outputs": [],
      "source": [
        "affairs_group_mar = df1[df1['affairs_yes_no'] == 1]['rate_marriage']\n",
        "non_affairs_group_mar = df1[df1['affairs_yes_no'] == 0]['rate_marriage']"
      ]
    },
    {
      "cell_type": "code",
      "execution_count": null,
      "metadata": {
        "colab": {
          "base_uri": "https://localhost:8080/"
        },
        "id": "qZw3wvj9oHkR",
        "outputId": "37f15bd7-73da-47cf-9ab5-2677e88cd734"
      },
      "outputs": [
        {
          "name": "stdout",
          "output_type": "stream",
          "text": [
            "Affairs Group - Normality Test: Statistics=95.922, p-value=0.000\n"
          ]
        }
      ],
      "source": [
        "\n",
        "stat_male, p_male = normaltest(affairs_group_mar)\n",
        "print('Affairs Group - Normality Test: Statistics=%.3f, p-value=%.3f' % (stat_male, p_male))"
      ]
    },
    {
      "cell_type": "code",
      "execution_count": null,
      "metadata": {
        "colab": {
          "base_uri": "https://localhost:8080/"
        },
        "id": "KU0HKc7uo5aE",
        "outputId": "c8661d14-dc18-4a9f-d5f8-e6e8cf3b431a"
      },
      "outputs": [
        {
          "name": "stdout",
          "output_type": "stream",
          "text": [
            "No Affairs Group - Normality Test: Statistics=838.474, p-value=0.000\n"
          ]
        }
      ],
      "source": [
        "stat_non, p_non = normaltest(non_affairs_group_mar)\n",
        "print('No Affairs Group - Normality Test: Statistics=%.3f, p-value=%.3f' % (stat_non, p_non))"
      ]
    },
    {
      "cell_type": "code",
      "execution_count": null,
      "metadata": {
        "colab": {
          "base_uri": "https://localhost:8080/"
        },
        "id": "asmbQuChtGPD",
        "outputId": "30d3d93b-2dd4-4d4a-ffba-13016b496f9c"
      },
      "outputs": [
        {
          "name": "stdout",
          "output_type": "stream",
          "text": [
            "Levene Test: Statistics=53.241, p-value=0.000\n"
          ]
        }
      ],
      "source": [
        "levene_output = levene(affairs_group_mar, non_affairs_group_mar)\n",
        "stat_levene, pvalue_levene = levene(affairs_group_mar, non_affairs_group_mar)\n",
        "print('Levene Test: Statistics=%.3f, p-value=%.3f' % (stat_levene, pvalue_levene))"
      ]
    },
    {
      "cell_type": "code",
      "execution_count": null,
      "metadata": {
        "colab": {
          "base_uri": "https://localhost:8080/"
        },
        "id": "4T_dyogbpel3",
        "outputId": "42ce7188-d732-4bc7-8de0-72c8d8f4d147"
      },
      "outputs": [
        {
          "name": "stdout",
          "output_type": "stream",
          "text": [
            "Mann-Whitney U Test: Statistics=2773538.000, p-value=0.000\n"
          ]
        }
      ],
      "source": [
        "stat, p = mannwhitneyu(affairs_group_mar, non_affairs_group_mar)\n",
        "print('Mann-Whitney U Test: Statistics=%.3f, p-value=%.3f' % (stat, p))"
      ]
    },
    {
      "cell_type": "code",
      "execution_count": null,
      "metadata": {
        "colab": {
          "base_uri": "https://localhost:8080/",
          "height": 469
        },
        "id": "5SbdXBO9tyz6",
        "outputId": "70a12966-33c2-4b04-cf36-411c7ebe0201"
      },
      "outputs": [
        {
          "data": {
            "image/png": "[encoded data removed]",
            "text/plain": [
              "<Figure size 1200x500 with 2 Axes>"
            ]
          },
          "metadata": {},
          "output_type": "display_data"
        }
      ],
      "source": [
        "plt.figure(figsize=(12, 5))\n",
        "plt.subplot(1, 2, 1) # no. of rows, no. of columns, index of the subplot\n",
        "plt.hist(affairs_group_mar, bins=10, color='blue', edgecolor='black')\n",
        "plt.title('Affairs')\n",
        "plt.xlabel('Rate of Marriage')\n",
        "plt.ylabel('Frequency')\n",
        "\n",
        "plt.subplot(1, 2, 2)\n",
        "plt.hist(non_affairs_group_mar, bins=10, color='green', edgecolor='black')\n",
        "plt.title('No Affairs')\n",
        "plt.xlabel('Rate of Marriage')\n",
        "plt.ylabel('Frequency')\n",
        "plt.show()"
      ]
    },
    {
      "cell_type": "markdown",
      "metadata": {
        "id": "WgLuGVfOqNe0"
      },
      "source": [
        "#e. Is there a statistically significant difference between those having affairs and those don’t in terms of age? Explain the relationship between age and affairs.\n",
        "\n",
        "The Mann-Whitney test revealed a statistically significant difference in age between individuals who have affairs and those who do not (p < 0.05). Notably, the data suggests that individuals who engage in affairs tend to skew toward older ages compared to those who do not have affairs. This finding indicates a significant age-related distinction between the two groups.\n",
        "\n"
      ]
    },
    {
      "cell_type": "code",
      "execution_count": null,
      "metadata": {
        "id": "aE4AuKhHrK5l"
      },
      "outputs": [],
      "source": [
        "age_affairs_group = df1[df1['affairs_yes_no'] == 1]['age']\n",
        "age_non_affairs_group = df1[df1['affairs_yes_no'] == 0]['age']"
      ]
    },
    {
      "cell_type": "code",
      "execution_count": null,
      "metadata": {
        "colab": {
          "base_uri": "https://localhost:8080/"
        },
        "id": "G5Ah2sZ3vp6O",
        "outputId": "3c345d54-21f0-4e33-b0d8-2a89f8cc6463"
      },
      "outputs": [
        {
          "name": "stdout",
          "output_type": "stream",
          "text": [
            "Affairs Group: Statistic=433.7674803806671, p-value=6.435590779761383e-95\n"
          ]
        }
      ],
      "source": [
        "stat_age, p_age = normaltest(age_affairs_group)\n",
        "print(f'Affairs Group: Statistic={stat_age}, p-value={p_age}')"
      ]
    },
    {
      "cell_type": "code",
      "execution_count": null,
      "metadata": {
        "colab": {
          "base_uri": "https://localhost:8080/"
        },
        "id": "7qNP3Q27v71J",
        "outputId": "65a00e32-aa0b-4d42-b3e0-190d22d5ffa2"
      },
      "outputs": [
        {
          "name": "stdout",
          "output_type": "stream",
          "text": [
            "Non affairs group: Statistic=389.1170501144434, p-value=3.1937885561482465e-85\n"
          ]
        }
      ],
      "source": [
        "stat_age, p_age = normaltest(age_non_affairs_group)\n",
        "print(f'Non affairs group: Statistic={stat_age}, p-value={p_age}')"
      ]
    },
    {
      "cell_type": "code",
      "execution_count": null,
      "metadata": {
        "colab": {
          "base_uri": "https://localhost:8080/"
        },
        "id": "TBqI1zvGwQaf",
        "outputId": "f488a207-1bd8-4215-809a-e46350b4e613"
      },
      "outputs": [
        {
          "name": "stdout",
          "output_type": "stream",
          "text": [
            "Levene's Test output: Statistic=12.730410739586162, p-value=0.0003624054974278153\n"
          ]
        }
      ],
      "source": [
        "levene_output = levene(age_affairs_group, age_non_affairs_group)\n",
        "stat_affair, pvalue_affair = levene(age_affairs_group, age_non_affairs_group)\n",
        "print(f\"Levene's Test output: Statistic={levene_output.statistic}, p-value={levene_output.pvalue}\")"
      ]
    },
    {
      "cell_type": "code",
      "execution_count": null,
      "metadata": {
        "colab": {
          "base_uri": "https://localhost:8080/"
        },
        "id": "6WFu9vDWZ9kH",
        "outputId": "f22c23dd-41ae-415d-8f51-75852ffb2162"
      },
      "outputs": [
        {
          "name": "stdout",
          "output_type": "stream",
          "text": [
            "T-statistic: 11.816024925431288\n",
            "P-value: 6.936335774008301e-32\n"
          ]
        }
      ],
      "source": [
        "t_stat, p_val = stats.ttest_ind(age_affairs_group, age_non_affairs_group)\n",
        "\n",
        "print(\"T-statistic:\", t_stat)\n",
        "print(\"P-value:\", p_val)"
      ]
    },
    {
      "cell_type": "code",
      "execution_count": null,
      "metadata": {
        "colab": {
          "base_uri": "https://localhost:8080/"
        },
        "id": "a9-pqTTiWZ0s",
        "outputId": "f94d4dba-daf0-4599-9e22-f451173f3068"
      },
      "outputs": [
        {
          "name": "stdout",
          "output_type": "stream",
          "text": [
            "Reject null hypothesis: means are significantly different.\n",
            "Reject null hypothesis: means are significantly different.\n",
            "Levene's Test output: Statistic=12.730410739586162, p-value=0.0003624054974278153\n",
            "t-statistic: 11.884345698274409, p-value: 4.7748025528270326e-32\n"
          ]
        }
      ],
      "source": [
        "alpha = 0.5\n",
        "if p_age < alpha:\n",
        "    print(\"Reject null hypothesis: means are significantly different.\")\n",
        "else:\n",
        "    print(\"Fail to reject null hypothesis: means are not significantly different.\")\n",
        "if pvalue_affair < alpha:\n",
        "    print(\"Reject null hypothesis: means are significantly different.\")\n",
        "else:\n",
        "    print(\"Fail to reject null hypothesis: means are not significantly different.\")\n",
        "\n",
        "#Levene\n",
        "levene_test = levene(age_affairs_group, age_non_affairs_group)\n",
        "print(f\"Levene's Test output: Statistic={levene_test.statistic}, p-value={levene_test.pvalue}\")\n",
        "\n",
        "\n",
        "stat_affair_age, p_wlech_affair_age = ttest_ind(age_affairs_group, age_non_affairs_group, equal_var=False)\n",
        "print(f\"t-statistic: {stat_affair_age}, p-value: {p_wlech_affair_age}\")"
      ]
    },
    {
      "cell_type": "code",
      "execution_count": null,
      "metadata": {
        "colab": {
          "base_uri": "https://localhost:8080/",
          "height": 1000
        },
        "id": "PC9IR0ZwXudu",
        "outputId": "c3859651-13f8-400c-e5ac-7e39643ca1de"
      },
      "outputs": [
        {
          "name": "stderr",
          "output_type": "stream",
          "text": [
            "/usr/local/lib/python3.10/dist-packages/seaborn/categorical.py:640: FutureWarning: SeriesGroupBy.grouper is deprecated and will be removed in a future version of pandas.\n",
            "  positions = grouped.grouper.result_index.to_numpy(dtype=float)\n",
            "/usr/local/lib/python3.10/dist-packages/seaborn/_base.py:949: FutureWarning: When grouping with a length-1 list-like, you will need to pass a length-1 tuple to get_group in a future version of pandas. Pass `(name,)` instead of `name` to silence this warning.\n",
            "  data_subset = grouped_data.get_group(pd_key)\n",
            "/usr/local/lib/python3.10/dist-packages/seaborn/_base.py:949: FutureWarning: When grouping with a length-1 list-like, you will need to pass a length-1 tuple to get_group in a future version of pandas. Pass `(name,)` instead of `name` to silence this warning.\n",
            "  data_subset = grouped_data.get_group(pd_key)\n"
          ]
        },
        {
          "data": {
            "text/plain": [
              "Text(0.5, 1.0, 'Average Age by Affairs Status')"
            ]
          },
          "execution_count": 129,
          "metadata": {},
          "output_type": "execute_result"
        },
        {
          "data": {
            "image/png": "[encoded data removed]",
            "text/plain": [
              "<Figure size 1000x600 with 1 Axes>"
            ]
          },
          "metadata": {},
          "output_type": "display_data"
        },
        {
          "data": {
            "image/png": "[encoded data removed]",
            "text/plain": [
              "<Figure size 1000x600 with 1 Axes>"
            ]
          },
          "metadata": {},
          "output_type": "display_data"
        },
        {
          "data": {
            "image/png": "[encoded data removed]",
            "text/plain": [
              "<Figure size 1000x600 with 1 Axes>"
            ]
          },
          "metadata": {},
          "output_type": "display_data"
        }
      ],
      "source": [
        "plt.figure(figsize=(10, 6))\n",
        "\n",
        "sns.boxplot(x='affairs_yes_no', y='age', data=df1, ax=plt.subplot(1, 2, 1))\n",
        "plt.title('Age Distribution by Affairs')\n",
        "plt.xlabel('Affairs')\n",
        "plt.ylabel('Age')\n",
        "\n",
        "\n",
        "avg_age_affairs = age_affairs_group.mean()\n",
        "avg_age_non_affairs = age_non_affairs_group.mean()\n",
        "\n",
        "plt.figure(figsize=(10, 6))\n",
        "plt.barh(['Affairs', 'No Affairs'], [age_affairs_group.mean(), age_non_affairs_group.mean()])\n",
        "plt.xlabel('Average Age')\n",
        "plt.ylabel('Affairs Status')\n",
        "plt.title('Average Age by Affairs Status')\n",
        "\n",
        "plt.figure(figsize=(10, 6))\n",
        "sns.histplot(data=df1, x='age', hue='affairs_yes_no', kde=True, ax=plt.subplot(1, 2, 2))\n",
        "plt.barh(['Affairs', 'No Affairs'], [age_affairs_group.mean(), age_non_affairs_group.mean()])\n",
        "plt.xlabel('Average Age')\n",
        "plt.ylabel('Affairs Status')\n",
        "plt.title('Average Age by Affairs Status')"
      ]
    },
    {
      "cell_type": "markdown",
      "metadata": {
        "id": "7EGAHQyLkpsN"
      },
      "source": [
        "#Is there a statistically significant difference between those having affairs and years married?\n",
        "#Explain the relationship between years married and affairs:\n",
        "\n",
        "Our data reveals a statistically significant difference in the number of years married between individuals who have had an affair and those who have not. This suggests that individuals who have had an affair tend to have shorter marriages"
      ]
    },
    {
      "cell_type": "code",
      "execution_count": null,
      "metadata": {
        "colab": {
          "base_uri": "https://localhost:8080/",
          "height": 1000
        },
        "id": "SsOO3QO_lOV-",
        "outputId": "92512ac1-5368-4024-c24d-de5f2e7556ff"
      },
      "outputs": [
        {
          "name": "stdout",
          "output_type": "stream",
          "text": [
            "Affairs Group - Normality Test: Statistics=258.107, p-value=0.000\n",
            "Non Affairs Group - Normality Test: Statistics=258.107, p-value=0.000\n",
            "Levene's statistic: 31.944430050669915\n",
            "Levene's p-value: 1.6552205134369314e-08\n",
            "t-statistic: 16.54789235256668\n",
            "p-value: 2.9679651173533047e-60\n",
            "Welch's t-statistic: 16.479585296050583\n",
            "Welch's p-value: 4.408538986613891e-59\n",
            "Mann-Whitney U statistic: 5667116.5\n",
            "Mann-Whitney U p-value: 1.9245146471427417e-76\n"
          ]
        },
        {
          "name": "stderr",
          "output_type": "stream",
          "text": [
            "/usr/local/lib/python3.10/dist-packages/seaborn/categorical.py:640: FutureWarning: SeriesGroupBy.grouper is deprecated and will be removed in a future version of pandas.\n",
            "  positions = grouped.grouper.result_index.to_numpy(dtype=float)\n"
          ]
        },
        {
          "data": {
            "image/png": "[encoded data removed]",
            "text/plain": [
              "<Figure size 640x480 with 1 Axes>"
            ]
          },
          "metadata": {},
          "output_type": "display_data"
        },
        {
          "name": "stderr",
          "output_type": "stream",
          "text": [
            "/usr/local/lib/python3.10/dist-packages/seaborn/_base.py:949: FutureWarning: When grouping with a length-1 list-like, you will need to pass a length-1 tuple to get_group in a future version of pandas. Pass `(name,)` instead of `name` to silence this warning.\n",
            "  data_subset = grouped_data.get_group(pd_key)\n",
            "/usr/local/lib/python3.10/dist-packages/seaborn/_base.py:949: FutureWarning: When grouping with a length-1 list-like, you will need to pass a length-1 tuple to get_group in a future version of pandas. Pass `(name,)` instead of `name` to silence this warning.\n",
            "  data_subset = grouped_data.get_group(pd_key)\n",
            "/usr/local/lib/python3.10/dist-packages/seaborn/_base.py:949: FutureWarning: When grouping with a length-1 list-like, you will need to pass a length-1 tuple to get_group in a future version of pandas. Pass `(name,)` instead of `name` to silence this warning.\n",
            "  data_subset = grouped_data.get_group(pd_key)\n",
            "/usr/local/lib/python3.10/dist-packages/seaborn/_base.py:949: FutureWarning: When grouping with a length-1 list-like, you will need to pass a length-1 tuple to get_group in a future version of pandas. Pass `(name,)` instead of `name` to silence this warning.\n",
            "  data_subset = grouped_data.get_group(pd_key)\n",
            "/usr/local/lib/python3.10/dist-packages/seaborn/_base.py:949: FutureWarning: When grouping with a length-1 list-like, you will need to pass a length-1 tuple to get_group in a future version of pandas. Pass `(name,)` instead of `name` to silence this warning.\n",
            "  data_subset = grouped_data.get_group(pd_key)\n",
            "/usr/local/lib/python3.10/dist-packages/seaborn/_base.py:949: FutureWarning: When grouping with a length-1 list-like, you will need to pass a length-1 tuple to get_group in a future version of pandas. Pass `(name,)` instead of `name` to silence this warning.\n",
            "  data_subset = grouped_data.get_group(pd_key)\n",
            "/usr/local/lib/python3.10/dist-packages/seaborn/_base.py:949: FutureWarning: When grouping with a length-1 list-like, you will need to pass a length-1 tuple to get_group in a future version of pandas. Pass `(name,)` instead of `name` to silence this warning.\n",
            "  data_subset = grouped_data.get_group(pd_key)\n",
            "/usr/local/lib/python3.10/dist-packages/seaborn/_base.py:949: FutureWarning: When grouping with a length-1 list-like, you will need to pass a length-1 tuple to get_group in a future version of pandas. Pass `(name,)` instead of `name` to silence this warning.\n",
            "  data_subset = grouped_data.get_group(pd_key)\n"
          ]
        },
        {
          "data": {
            "image/png": "[encoded data removed]",
            "text/plain": [
              "<Figure size 640x480 with 1 Axes>"
            ]
          },
          "metadata": {},
          "output_type": "display_data"
        }
      ],
      "source": [
        "stat_aff, p_aff = normaltest(non_affairs_group)\n",
        "print('Affairs Group - Normality Test: Statistics=%.3f, p-value=%.3f' % (stat_aff, p_aff))\n",
        "\n",
        "stat_no_aff, p_no_aff = normaltest(affairs_group)\n",
        "print('Non Affairs Group - Normality Test: Statistics=%.3f, p-value=%.3f' % (stat_aff, p_aff))\n",
        "\n",
        "# Levene's Variance Test\n",
        "lev_stat, lev_p_val = stats.levene(df1[df1['affairs_yes_no'] == 1]['yrs_married'],\n",
        "                                   df1[df1['affairs_yes_no'] == 0]['yrs_married'])\n",
        "\n",
        "print(\"Levene's statistic:\", lev_stat)\n",
        "print(\"Levene's p-value:\", lev_p_val)\n",
        "\n",
        "\n",
        "# t-test\n",
        "t_stat, p_val = stats.ttest_ind(df1[df1['affairs_yes_no'] == 1]['yrs_married'],\n",
        "                                df1[df1['affairs_yes_no'] == 0]['yrs_married'])\n",
        "\n",
        "print(\"t-statistic:\", t_stat)\n",
        "print(\"p-value:\", p_val)\n",
        "\n",
        "# Welch's t-test (if Levene's test fails)\n",
        "if lev_p_val < 0.05:\n",
        "    t_stat, p_val = stats.ttest_ind(df1[df1['affairs_yes_no'] == 1]['yrs_married'],\n",
        "                                    df1[df1['affairs_yes_no'] == 0]['yrs_married'],\n",
        "                                    equal_var=False)\n",
        "\n",
        "    print(\"Welch's t-statistic:\", t_stat)\n",
        "    print(\"Welch's p-value:\", p_val)\n",
        "\n",
        "# Mann-Whitney U test (non-parametric alternative)\n",
        "u_stat, u_p_val = stats.mannwhitneyu(df1[df1['affairs_yes_no'] == 1]['yrs_married'],\n",
        "                                     df1[df1['affairs_yes_no'] == 0]['yrs_married'])\n",
        "\n",
        "print(\"Mann-Whitney U statistic:\", u_stat)\n",
        "print(\"Mann-Whitney U p-value:\", u_p_val)\n",
        "\n",
        "# Box plot\n",
        "sns.boxplot(x='affairs_yes_no', y='yrs_married', data=df1)\n",
        "plt.title('Years Married by Affairs Status')\n",
        "plt.show()\n",
        "\n",
        "# Histogram\n",
        "sns.histplot(data=df1, x='age', hue='yrs_married', kde=True)\n",
        "plt.title('Years Married Distribution by Affairs Status')\n",
        "plt.show()"
      ]
    }
  ],
  "metadata": {
    "colab": {
      "provenance": []
    },
    "kernelspec": {
      "display_name": "Python 3",
      "name": "python3"
    },
    "language_info": {
      "name": "python"
    }
  },
  "nbformat": 4,
  "nbformat_minor": 0
}
